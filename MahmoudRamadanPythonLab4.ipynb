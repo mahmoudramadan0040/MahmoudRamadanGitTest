{
 "cells": [
  {
   "cell_type": "code",
   "execution_count": 66,
   "metadata": {},
   "outputs": [
    {
     "name": "stdout",
     "output_type": "stream",
     "text": [
      "Queue is empty !\n",
      "[2, 2]\n",
      "[]\n"
     ]
    }
   ],
   "source": [
    "## Task 1\n",
    "class Queue:\n",
    "    \n",
    "    def __init__(self):\n",
    "        self.queue = list()\n",
    "    def insert(self, item):\n",
    "        self.queue.append(item)\n",
    "    def pop(self):\n",
    "        if Queue.isEmpty(self):\n",
    "            print(\"Queue is empty !\")\n",
    "            return None\n",
    "        self.queue.remove(self.queue[0])\n",
    "        return self.queue\n",
    "    \n",
    "    def print_queue(self):\n",
    "        print(self.queue)\n",
    "    \n",
    "    def isEmpty(self):\n",
    "        if len(self.queue)==0: return True\n",
    "        else: return False\n",
    "que1 = Queue()\n",
    "que2 = Queue()\n",
    "que1.insert(2)\n",
    "que1.insert(2)\n",
    "que2.insert(2)\n",
    "que2.insert(2)\n",
    "que2.pop()\n",
    "que2.pop()\n",
    "# print the message queue is empty \n",
    "que2.pop()\n",
    "que1.print_queue()\n",
    "que2.print_queue()\n",
    "\n",
    "\n",
    "    "
   ]
  },
  {
   "cell_type": "code",
   "execution_count": 65,
   "metadata": {},
   "outputs": [
    {
     "name": "stdout",
     "output_type": "stream",
     "text": [
      "the number of instance that created from Advanced queue class :  2\n",
      "[3, 2, 4]\n",
      "[3, 2, 4]\n",
      "[<__main__.AdvancedQueue object at 0x000002119E5AF280>, <__main__.AdvancedQueue object at 0x000002119E6EA310>]\n"
     ]
    }
   ],
   "source": [
    "# Task 2\n",
    "import pickle\n",
    "class AdvancedQueue(Queue):\n",
    "    num_of_queue =0\n",
    "    instances =list()\n",
    "    def __init__(self,name ,size):\n",
    "        super(AdvancedQueue).__init__()\n",
    "        self.name = name\n",
    "        self.size = size\n",
    "        self.queue = list()\n",
    "        AdvancedQueue.num_of_queue+=1\n",
    "        self.__class__.instances.append(self)\n",
    "    \n",
    "    def insert(self, item):\n",
    "        if len(self.queue) >= self.size:\n",
    "            raise  Exception(\"Queue is full , Out Of Range size\")\n",
    "        return super().insert(item)\n",
    "    \n",
    "    def pop(self):\n",
    "        return super().pop()\n",
    "    \n",
    "    def print_queue(self):\n",
    "        return super().print_queue()\n",
    "    \n",
    "        \n",
    "    @classmethod\n",
    "    def GetQueueUsingName(cls,name):\n",
    "        for que in cls.instances:\n",
    "            if que.name == name:\n",
    "                return que\n",
    "    @classmethod\n",
    "    def save(cls):\n",
    "        pickle.dump(cls.instances, open(\"queueFile.pickle\",\"wb\"))\n",
    "    \n",
    "    @classmethod\n",
    "    def load(self):\n",
    "        queues = pickle.load(open(\"queueFile.pickle\",\"rb\"))\n",
    "        return queues\n",
    "    \n",
    "        \n",
    "        \n",
    "# create a queue instances        \n",
    "q1 =AdvancedQueue(\"firstQueue\",3)\n",
    "q2 =AdvancedQueue(\"secondQueue\",3)\n",
    "q1.insert(3)\n",
    "q1.insert(2)\n",
    "q1.insert(4)\n",
    "\n",
    "\n",
    "\n",
    "q2.insert(1)\n",
    "q2.insert(4)\n",
    "\n",
    "# print the number of instance of class \n",
    "print(\"the number of instance that created from Advanced queue class : \",q1.num_of_queue)\n",
    "\n",
    "q1.print_queue()\n",
    "# get queue instance using name of queue \n",
    "AdvancedQueue.GetQueueUsingName(\"firstQueue\").print_queue()\n",
    "# save the queue instance in file \n",
    "AdvancedQueue.save();\n",
    "# load the queue instance from file\n",
    "data =AdvancedQueue.load();\n",
    "print(data);\n",
    "# should throw an exception because \n",
    "# q1.insert(1)"
   ]
  },
  {
   "cell_type": "code",
   "execution_count": null,
   "metadata": {},
   "outputs": [],
   "source": []
  }
 ],
 "metadata": {
  "kernelspec": {
   "display_name": "base",
   "language": "python",
   "name": "python3"
  },
  "language_info": {
   "codemirror_mode": {
    "name": "ipython",
    "version": 3
   },
   "file_extension": ".py",
   "mimetype": "text/x-python",
   "name": "python",
   "nbconvert_exporter": "python",
   "pygments_lexer": "ipython3",
   "version": "3.9.13"
  },
  "orig_nbformat": 4
 },
 "nbformat": 4,
 "nbformat_minor": 2
}
